{
 "cells": [
  {
   "cell_type": "code",
   "execution_count": 2,
   "id": "33e79486",
   "metadata": {},
   "outputs": [],
   "source": [
    "class TextGenerator():\n",
    "    def __init__(self, filepath, punteggiatura): #costruttore\n",
    "        self.filepath=filepath\n",
    "        self.punteggiatura=punteggiatura\n",
    "        self.parole=[]\n",
    "        sself.successivi={}\n",
    "        \n",
    "    def fileToListaParole(self):\n",
    "        file = open(filepath, \"r\")#, encoding=\"uft-8\")\n",
    "        righe=file.readlines()\n",
    "        file.close()\n",
    "        righe_senza_return = [riga[:-1] for riga in righe if len(riga) > 1]\n",
    "        libro = \" \".join(righe_senza_return).lower()\n",
    "        for carattere in punteggiatura:\n",
    "            libro = libro.replace(carattere, \" \")\n",
    "        self.parole = libro.split(\" \")\n",
    "        self.parole = [parola for parola in self.parole if len(parola) > 0]\n",
    "        self.parole\n",
    "    \n",
    "    def listaToDizionario(self):\n",
    "        for i in range(len(self.parole) - 1):\n",
    "            parola_indice= self.parole[i]\n",
    "            parola_scritta = self.parole[i + 1]\n",
    "\n",
    "            if parola_indice in diz_successive:\n",
    "                successivi[parola_indice].append(parola_scritta)\n",
    "            else:\n",
    "                successivi[parola_indice] = [parola_scritta]\n",
    "        self.successivi\n",
    "    \n",
    "    def generaTesto(self, parolaIniziale, lunghezza):\n",
    "        parola, spazio=parolaIniziale, \" \"\n",
    "        print(f\"la frase è:\")\n",
    "        if parola in self.successivi:\n",
    "            for i in range(1,lunghezza_frase+1):\n",
    "                parola=random.choice(self.successivi[parola])\n",
    "                stringa=stringa+parola+spazio\n",
    "        else:\n",
    "            print(\"non è nel dizionario\")\n",
    "\n",
    "        print(stringa)\n",
    "        "
   ]
  },
  {
   "cell_type": "code",
   "execution_count": null,
   "id": "e153dde9",
   "metadata": {},
   "outputs": [],
   "source": []
  }
 ],
 "metadata": {
  "kernelspec": {
   "display_name": "Python 3 (ipykernel)",
   "language": "python",
   "name": "python3"
  },
  "language_info": {
   "codemirror_mode": {
    "name": "ipython",
    "version": 3
   },
   "file_extension": ".py",
   "mimetype": "text/x-python",
   "name": "python",
   "nbconvert_exporter": "python",
   "pygments_lexer": "ipython3",
   "version": "3.11.4"
  }
 },
 "nbformat": 4,
 "nbformat_minor": 5
}
