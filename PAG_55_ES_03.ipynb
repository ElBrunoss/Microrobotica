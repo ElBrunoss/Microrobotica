{
 "cells": [
  {
   "cell_type": "code",
   "execution_count": 1,
   "id": "64ee145b",
   "metadata": {},
   "outputs": [],
   "source": [
    "prima, seconda=1,2"
   ]
  },
  {
   "cell_type": "code",
   "execution_count": 2,
   "id": "5cd0eb2a",
   "metadata": {},
   "outputs": [
    {
     "name": "stdout",
     "output_type": "stream",
     "text": [
      "il primo numero è: 1  il secondo numero è: 2\n"
     ]
    }
   ],
   "source": [
    "print(f\"il primo numero è: {prima}  il secondo numero è: {seconda}\")"
   ]
  },
  {
   "cell_type": "code",
   "execution_count": 3,
   "id": "d0bbe942",
   "metadata": {},
   "outputs": [],
   "source": [
    "prima,seconda=seconda,prima"
   ]
  },
  {
   "cell_type": "code",
   "execution_count": 4,
   "id": "28ea00fb",
   "metadata": {},
   "outputs": [
    {
     "name": "stdout",
     "output_type": "stream",
     "text": [
      "il primo numero è: 2  il secondo numero è: 1\n"
     ]
    }
   ],
   "source": [
    "print(f\"il primo numero è: {prima}  il secondo numero è: {seconda}\")"
   ]
  },
  {
   "cell_type": "code",
   "execution_count": null,
   "id": "bed742d3",
   "metadata": {},
   "outputs": [],
   "source": []
  }
 ],
 "metadata": {
  "kernelspec": {
   "display_name": "Python 3 (ipykernel)",
   "language": "python",
   "name": "python3"
  },
  "language_info": {
   "codemirror_mode": {
    "name": "ipython",
    "version": 3
   },
   "file_extension": ".py",
   "mimetype": "text/x-python",
   "name": "python",
   "nbconvert_exporter": "python",
   "pygments_lexer": "ipython3",
   "version": "3.11.4"
  }
 },
 "nbformat": 4,
 "nbformat_minor": 5
}
