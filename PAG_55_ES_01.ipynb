{
 "cells": [
  {
   "cell_type": "code",
   "execution_count": 1,
   "id": "5c9d1c35",
   "metadata": {},
   "outputs": [],
   "source": [
    "valore1=int(5)"
   ]
  },
  {
   "cell_type": "code",
   "execution_count": 2,
   "id": "460816bc",
   "metadata": {},
   "outputs": [],
   "source": [
    "valore2=\"ciao\""
   ]
  },
  {
   "cell_type": "code",
   "execution_count": 3,
   "id": "18c8a18c",
   "metadata": {},
   "outputs": [],
   "source": [
    "valore3=float(5.5)"
   ]
  },
  {
   "cell_type": "code",
   "execution_count": 4,
   "id": "115e5fce",
   "metadata": {},
   "outputs": [],
   "source": [
    "valore4=bool(1)"
   ]
  },
  {
   "cell_type": "code",
   "execution_count": 5,
   "id": "6469e4f3",
   "metadata": {},
   "outputs": [
    {
     "data": {
      "text/plain": [
       "5"
      ]
     },
     "execution_count": 5,
     "metadata": {},
     "output_type": "execute_result"
    }
   ],
   "source": [
    "valore1"
   ]
  },
  {
   "cell_type": "code",
   "execution_count": 6,
   "id": "04e013e2",
   "metadata": {},
   "outputs": [
    {
     "data": {
      "text/plain": [
       "'ciao'"
      ]
     },
     "execution_count": 6,
     "metadata": {},
     "output_type": "execute_result"
    }
   ],
   "source": [
    "valore2"
   ]
  },
  {
   "cell_type": "code",
   "execution_count": 7,
   "id": "a753aa8b",
   "metadata": {},
   "outputs": [
    {
     "data": {
      "text/plain": [
       "5.5"
      ]
     },
     "execution_count": 7,
     "metadata": {},
     "output_type": "execute_result"
    }
   ],
   "source": [
    "valore3"
   ]
  },
  {
   "cell_type": "code",
   "execution_count": 8,
   "id": "41a7d31b",
   "metadata": {},
   "outputs": [
    {
     "data": {
      "text/plain": [
       "True"
      ]
     },
     "execution_count": 8,
     "metadata": {},
     "output_type": "execute_result"
    }
   ],
   "source": [
    "valore4"
   ]
  },
  {
   "cell_type": "code",
   "execution_count": 9,
   "id": "f0a5c908",
   "metadata": {},
   "outputs": [
    {
     "data": {
      "text/plain": [
       "int"
      ]
     },
     "execution_count": 9,
     "metadata": {},
     "output_type": "execute_result"
    }
   ],
   "source": [
    "type(valore1)"
   ]
  },
  {
   "cell_type": "code",
   "execution_count": 10,
   "id": "49bd530e",
   "metadata": {},
   "outputs": [
    {
     "data": {
      "text/plain": [
       "str"
      ]
     },
     "execution_count": 10,
     "metadata": {},
     "output_type": "execute_result"
    }
   ],
   "source": [
    "type(valore2)"
   ]
  },
  {
   "cell_type": "code",
   "execution_count": 11,
   "id": "18e36299",
   "metadata": {},
   "outputs": [
    {
     "data": {
      "text/plain": [
       "float"
      ]
     },
     "execution_count": 11,
     "metadata": {},
     "output_type": "execute_result"
    }
   ],
   "source": [
    "type(valore3)"
   ]
  },
  {
   "cell_type": "code",
   "execution_count": 12,
   "id": "115dda78",
   "metadata": {},
   "outputs": [
    {
     "data": {
      "text/plain": [
       "bool"
      ]
     },
     "execution_count": 12,
     "metadata": {},
     "output_type": "execute_result"
    }
   ],
   "source": [
    "type(valore4)"
   ]
  },
  {
   "cell_type": "code",
   "execution_count": null,
   "id": "a5da3a0b",
   "metadata": {},
   "outputs": [],
   "source": []
  }
 ],
 "metadata": {
  "kernelspec": {
   "display_name": "Python 3 (ipykernel)",
   "language": "python",
   "name": "python3"
  },
  "language_info": {
   "codemirror_mode": {
    "name": "ipython",
    "version": 3
   },
   "file_extension": ".py",
   "mimetype": "text/x-python",
   "name": "python",
   "nbconvert_exporter": "python",
   "pygments_lexer": "ipython3",
   "version": "3.11.4"
  }
 },
 "nbformat": 4,
 "nbformat_minor": 5
}
