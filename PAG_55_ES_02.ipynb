{
 "cells": [
  {
   "cell_type": "code",
   "execution_count": 1,
   "id": "74e427d7",
   "metadata": {},
   "outputs": [],
   "source": [
    "valore1, valore2, valore3, valore4=int(4), \"ciao\", float(3.3), bool(0)"
   ]
  },
  {
   "cell_type": "code",
   "execution_count": 2,
   "id": "13a1a46a",
   "metadata": {},
   "outputs": [
    {
     "name": "stdout",
     "output_type": "stream",
     "text": [
      "4 ciao 3.3 False\n"
     ]
    }
   ],
   "source": [
    "print(valore1, valore2, valore3, valore4)"
   ]
  },
  {
   "cell_type": "code",
   "execution_count": 4,
   "id": "42b86104",
   "metadata": {},
   "outputs": [
    {
     "data": {
      "text/plain": [
       "int"
      ]
     },
     "execution_count": 4,
     "metadata": {},
     "output_type": "execute_result"
    }
   ],
   "source": [
    "type(valore1)"
   ]
  },
  {
   "cell_type": "code",
   "execution_count": 5,
   "id": "ae738225",
   "metadata": {},
   "outputs": [
    {
     "data": {
      "text/plain": [
       "str"
      ]
     },
     "execution_count": 5,
     "metadata": {},
     "output_type": "execute_result"
    }
   ],
   "source": [
    "type(valore2)"
   ]
  },
  {
   "cell_type": "code",
   "execution_count": 6,
   "id": "eea2a8f6",
   "metadata": {},
   "outputs": [
    {
     "data": {
      "text/plain": [
       "float"
      ]
     },
     "execution_count": 6,
     "metadata": {},
     "output_type": "execute_result"
    }
   ],
   "source": [
    "type(valore3)"
   ]
  },
  {
   "cell_type": "code",
   "execution_count": 7,
   "id": "69213517",
   "metadata": {},
   "outputs": [
    {
     "data": {
      "text/plain": [
       "bool"
      ]
     },
     "execution_count": 7,
     "metadata": {},
     "output_type": "execute_result"
    }
   ],
   "source": [
    "type(valore4)"
   ]
  },
  {
   "cell_type": "code",
   "execution_count": null,
   "id": "e31f8201",
   "metadata": {},
   "outputs": [],
   "source": []
  }
 ],
 "metadata": {
  "kernelspec": {
   "display_name": "Python 3 (ipykernel)",
   "language": "python",
   "name": "python3"
  },
  "language_info": {
   "codemirror_mode": {
    "name": "ipython",
    "version": 3
   },
   "file_extension": ".py",
   "mimetype": "text/x-python",
   "name": "python",
   "nbconvert_exporter": "python",
   "pygments_lexer": "ipython3",
   "version": "3.11.4"
  }
 },
 "nbformat": 4,
 "nbformat_minor": 5
}
