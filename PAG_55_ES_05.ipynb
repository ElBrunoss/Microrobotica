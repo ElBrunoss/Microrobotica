{
 "cells": [
  {
   "cell_type": "code",
   "execution_count": 1,
   "id": "975647eb",
   "metadata": {},
   "outputs": [],
   "source": [
    "stringa=\"hello word\""
   ]
  },
  {
   "cell_type": "code",
   "execution_count": 2,
   "id": "7f98cb58",
   "metadata": {},
   "outputs": [
    {
     "name": "stdout",
     "output_type": "stream",
     "text": [
      "ello wor\n"
     ]
    }
   ],
   "source": [
    "print(stringa[1:len(stringa)-1])"
   ]
  },
  {
   "cell_type": "code",
   "execution_count": null,
   "id": "54d1ee95",
   "metadata": {},
   "outputs": [],
   "source": []
  }
 ],
 "metadata": {
  "kernelspec": {
   "display_name": "Python 3 (ipykernel)",
   "language": "python",
   "name": "python3"
  },
  "language_info": {
   "codemirror_mode": {
    "name": "ipython",
    "version": 3
   },
   "file_extension": ".py",
   "mimetype": "text/x-python",
   "name": "python",
   "nbconvert_exporter": "python",
   "pygments_lexer": "ipython3",
   "version": "3.11.4"
  }
 },
 "nbformat": 4,
 "nbformat_minor": 5
}
